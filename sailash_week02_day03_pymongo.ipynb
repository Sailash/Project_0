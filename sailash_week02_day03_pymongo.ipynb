{
 "cells": [
  {
   "cell_type": "markdown",
   "id": "0e6f564e",
   "metadata": {},
   "source": [
    "# Importing Liberary"
   ]
  },
  {
   "cell_type": "code",
   "execution_count": 1,
   "id": "1f34d9f2",
   "metadata": {},
   "outputs": [],
   "source": [
    "# Import required packages\n",
    "import json\n",
    "import pymongo\n",
    "from pymongo import MongoClient"
   ]
  },
  {
   "cell_type": "markdown",
   "id": "08f081fd",
   "metadata": {},
   "source": [
    "# Loading json file to python"
   ]
  },
  {
   "cell_type": "code",
   "execution_count": 2,
   "id": "766634ca",
   "metadata": {},
   "outputs": [],
   "source": [
    "# Import json file from the file path\n",
    "with open('C:\\\\Users\\\\Sailash\\\\Downloads\\\\meal_info.json') as json_file:\n",
    "    json_data = json.load(json_file)"
   ]
  },
  {
   "cell_type": "markdown",
   "id": "588de3e0",
   "metadata": {},
   "source": [
    "# Insert Many "
   ]
  },
  {
   "cell_type": "code",
   "execution_count": 10,
   "id": "3fa6d237",
   "metadata": {},
   "outputs": [
    {
     "data": {
      "text/plain": [
       "<pymongo.results.InsertManyResult at 0x246e185a540>"
      ]
     },
     "execution_count": 10,
     "metadata": {},
     "output_type": "execute_result"
    }
   ],
   "source": [
    "client = MongoClient('localhost',27017)  # Creating client object\n",
    "db = client[\"meals\"]  # Creating databases object\n",
    "\n",
    "db.info.insert_many(json_data)  # Insert json data to database"
   ]
  },
  {
   "cell_type": "markdown",
   "id": "a68871b1",
   "metadata": {},
   "source": [
    "# Find"
   ]
  },
  {
   "cell_type": "code",
   "execution_count": 4,
   "id": "1311329e",
   "metadata": {
    "scrolled": true
   },
   "outputs": [
    {
     "name": "stdout",
     "output_type": "stream",
     "text": [
      "enter cuisine Thai\n",
      "{'_id': ObjectId('60e7e7234ed795df0546b8f7'), 'meal_id': 1885, 'category': 'Beverages', 'cuisine': 'Thai'}\n",
      "{'_id': ObjectId('60e7e7234ed795df0546b8f8'), 'meal_id': 1993, 'category': 'Beverages', 'cuisine': 'Thai'}\n",
      "{'_id': ObjectId('60e7e7234ed795df0546b8f9'), 'meal_id': 2539, 'category': 'Beverages', 'cuisine': 'Thai'}\n",
      "{'_id': ObjectId('60e7e7234ed795df0546b8fc'), 'meal_id': 1311, 'category': 'Extras', 'cuisine': 'Thai'}\n",
      "{'_id': ObjectId('60e7e7234ed795df0546b8ff'), 'meal_id': 1803, 'category': 'Extras', 'cuisine': 'Thai'}\n",
      "{'_id': ObjectId('60e7e7234ed795df0546b900'), 'meal_id': 1198, 'category': 'Extras', 'cuisine': 'Thai'}\n",
      "{'_id': ObjectId('60e7e7234ed795df0546b902'), 'meal_id': 1847, 'category': 'Soup', 'cuisine': 'Thai'}\n",
      "{'_id': ObjectId('60e7e7234ed795df0546b903'), 'meal_id': 1438, 'category': 'Soup', 'cuisine': 'Thai'}\n",
      "{'_id': ObjectId('60e7e7234ed795df0546b904'), 'meal_id': 2494, 'category': 'Soup', 'cuisine': 'Thai'}\n",
      "{'_id': ObjectId('60e7e7234ed795df0546b905'), 'meal_id': 2760, 'category': 'Other Snacks', 'cuisine': 'Thai'}\n",
      "{'_id': ObjectId('60e7e7234ed795df0546b909'), 'meal_id': 1525, 'category': 'Other Snacks', 'cuisine': 'Thai'}\n",
      "{'_id': ObjectId('60e7e7234ed795df0546b90a'), 'meal_id': 2704, 'category': 'Other Snacks', 'cuisine': 'Thai'}\n",
      "{'_id': ObjectId('60e7e7234ed795df0546b90b'), 'meal_id': 1878, 'category': 'Starters', 'cuisine': 'Thai'}\n",
      "{'_id': ObjectId('60e7e7234ed795df0546b90c'), 'meal_id': 2640, 'category': 'Starters', 'cuisine': 'Thai'}\n",
      "{'_id': ObjectId('60e7e7234ed795df0546b90d'), 'meal_id': 2577, 'category': 'Starters', 'cuisine': 'Thai'}\n",
      "{'_id': ObjectId('60e8199d7821eb62afbb3134'), 'meal_id': 1885, 'category': 'Beverages', 'cuisine': 'Thai'}\n",
      "{'_id': ObjectId('60e8199d7821eb62afbb3135'), 'meal_id': 1993, 'category': 'Beverages', 'cuisine': 'Thai'}\n",
      "{'_id': ObjectId('60e8199d7821eb62afbb3136'), 'meal_id': 2539, 'category': 'Beverages', 'cuisine': 'Thai'}\n",
      "{'_id': ObjectId('60e8199d7821eb62afbb3139'), 'meal_id': 1311, 'category': 'Extras', 'cuisine': 'Thai'}\n",
      "{'_id': ObjectId('60e8199d7821eb62afbb313c'), 'meal_id': 1803, 'category': 'Extras', 'cuisine': 'Thai'}\n",
      "{'_id': ObjectId('60e8199d7821eb62afbb313d'), 'meal_id': 1198, 'category': 'Extras', 'cuisine': 'Thai'}\n",
      "{'_id': ObjectId('60e8199d7821eb62afbb313f'), 'meal_id': 1847, 'category': 'Soup', 'cuisine': 'Thai'}\n",
      "{'_id': ObjectId('60e8199d7821eb62afbb3140'), 'meal_id': 1438, 'category': 'Soup', 'cuisine': 'Thai'}\n",
      "{'_id': ObjectId('60e8199d7821eb62afbb3141'), 'meal_id': 2494, 'category': 'Soup', 'cuisine': 'Thai'}\n",
      "{'_id': ObjectId('60e8199d7821eb62afbb3142'), 'meal_id': 2760, 'category': 'Other Snacks', 'cuisine': 'Thai'}\n",
      "{'_id': ObjectId('60e8199d7821eb62afbb3146'), 'meal_id': 1525, 'category': 'Other Snacks', 'cuisine': 'Thai'}\n",
      "{'_id': ObjectId('60e8199d7821eb62afbb3147'), 'meal_id': 2704, 'category': 'Other Snacks', 'cuisine': 'Thai'}\n",
      "{'_id': ObjectId('60e8199d7821eb62afbb3148'), 'meal_id': 1878, 'category': 'Starters', 'cuisine': 'Thai'}\n",
      "{'_id': ObjectId('60e8199d7821eb62afbb3149'), 'meal_id': 2640, 'category': 'Starters', 'cuisine': 'Thai'}\n",
      "{'_id': ObjectId('60e8199d7821eb62afbb314a'), 'meal_id': 2577, 'category': 'Starters', 'cuisine': 'Thai'}\n"
     ]
    }
   ],
   "source": [
    "doc = {\"cuisine\": input(\"enter cuisine \")}\n",
    "\n",
    "# Find all documents from collection\n",
    "for i in db.info.find(doc):\n",
    "    print(i)"
   ]
  },
  {
   "cell_type": "markdown",
   "id": "596de8a2",
   "metadata": {},
   "source": [
    "# Find One"
   ]
  },
  {
   "cell_type": "code",
   "execution_count": 5,
   "id": "9f4dce70",
   "metadata": {},
   "outputs": [
    {
     "name": "stdout",
     "output_type": "stream",
     "text": [
      "enter meal_id 1885\n",
      "{'_id': ObjectId('60e7e7234ed795df0546b8f7'), 'meal_id': 1885, 'category': 'Beverages', 'cuisine': 'Thai'}\n"
     ]
    }
   ],
   "source": [
    "# Find the document by meal_id\n",
    "doc = {\"meal_id\": int(input(\"enter meal_id \"))}\n",
    "\n",
    "print(db.info.find_one(doc))"
   ]
  },
  {
   "cell_type": "markdown",
   "id": "5ee80b2f",
   "metadata": {},
   "source": [
    "# Limit"
   ]
  },
  {
   "cell_type": "code",
   "execution_count": 6,
   "id": "d3dc1651",
   "metadata": {},
   "outputs": [
    {
     "name": "stdout",
     "output_type": "stream",
     "text": [
      "{'_id': ObjectId('60e7e7234ed795df0546b8f7'), 'meal_id': 1885, 'category': 'Beverages', 'cuisine': 'Thai'}\n",
      "{'_id': ObjectId('60e7e7234ed795df0546b8f8'), 'meal_id': 1993, 'category': 'Beverages', 'cuisine': 'Thai'}\n",
      "{'_id': ObjectId('60e7e7234ed795df0546b8f9'), 'meal_id': 2539, 'category': 'Beverages', 'cuisine': 'Thai'}\n",
      "{'_id': ObjectId('60e7e7234ed795df0546b8fa'), 'meal_id': 1248, 'category': 'Beverages', 'cuisine': 'Indian'}\n",
      "{'_id': ObjectId('60e7e7234ed795df0546b8fb'), 'meal_id': 2631, 'category': 'Beverages', 'cuisine': 'Indian'}\n",
      "{'_id': ObjectId('60e7e7234ed795df0546b8fc'), 'meal_id': 1311, 'category': 'Extras', 'cuisine': 'Thai'}\n",
      "{'_id': ObjectId('60e7e7234ed795df0546b8fd'), 'meal_id': 1062, 'category': 'Beverages', 'cuisine': 'Italian'}\n",
      "{'_id': ObjectId('60e7e7234ed795df0546b8fe'), 'meal_id': 1778, 'category': 'Beverages', 'cuisine': 'Italian'}\n",
      "{'_id': ObjectId('60e7e7234ed795df0546b8ff'), 'meal_id': 1803, 'category': 'Extras', 'cuisine': 'Thai'}\n",
      "{'_id': ObjectId('60e7e7234ed795df0546b900'), 'meal_id': 1198, 'category': 'Extras', 'cuisine': 'Thai'}\n"
     ]
    }
   ],
   "source": [
    "# Only 10 documents will be fetched\n",
    "for i in db.info.find().limit(10):\n",
    "    print(i)"
   ]
  },
  {
   "cell_type": "markdown",
   "id": "83ec5c76",
   "metadata": {},
   "source": [
    "# Update One"
   ]
  },
  {
   "cell_type": "code",
   "execution_count": 7,
   "id": "ea5def63",
   "metadata": {},
   "outputs": [
    {
     "name": "stdout",
     "output_type": "stream",
     "text": [
      "enter meal_id 1885\n",
      "enter category to be changed pizza\n",
      "{'_id': ObjectId('60e7e7234ed795df0546b8f7'), 'meal_id': 1885, 'category': 'pizza', 'cuisine': 'Thai'}\n"
     ]
    }
   ],
   "source": [
    "# Enter meal_id to select the document to be updated\n",
    "# Enter the category value to be changed\n",
    "\n",
    "doc = {\"meal_id\": int(input(\"enter meal_id \"))}\n",
    "update = {\"$set\": {\"category\": input(\"enter category to be changed \")}}\n",
    "\n",
    "db.info.update_one(doc, update)\n",
    "\n",
    "print(db.info.find_one(doc))"
   ]
  },
  {
   "cell_type": "markdown",
   "id": "816459d8",
   "metadata": {},
   "source": [
    "# Update Many"
   ]
  },
  {
   "cell_type": "code",
   "execution_count": 8,
   "id": "a58bc14d",
   "metadata": {
    "scrolled": true
   },
   "outputs": [
    {
     "name": "stdout",
     "output_type": "stream",
     "text": [
      "enter cuisine Thai\n",
      "enter category to be changed burger\n",
      "{'_id': ObjectId('60e7e7234ed795df0546b8f7'), 'meal_id': 1885, 'category': 'burger', 'cuisine': 'Thai'}\n",
      "{'_id': ObjectId('60e7e7234ed795df0546b8f8'), 'meal_id': 1993, 'category': 'burger', 'cuisine': 'Thai'}\n",
      "{'_id': ObjectId('60e7e7234ed795df0546b8f9'), 'meal_id': 2539, 'category': 'burger', 'cuisine': 'Thai'}\n",
      "{'_id': ObjectId('60e7e7234ed795df0546b8fc'), 'meal_id': 1311, 'category': 'burger', 'cuisine': 'Thai'}\n",
      "{'_id': ObjectId('60e7e7234ed795df0546b8ff'), 'meal_id': 1803, 'category': 'burger', 'cuisine': 'Thai'}\n",
      "{'_id': ObjectId('60e7e7234ed795df0546b900'), 'meal_id': 1198, 'category': 'burger', 'cuisine': 'Thai'}\n",
      "{'_id': ObjectId('60e7e7234ed795df0546b902'), 'meal_id': 1847, 'category': 'burger', 'cuisine': 'Thai'}\n",
      "{'_id': ObjectId('60e7e7234ed795df0546b903'), 'meal_id': 1438, 'category': 'burger', 'cuisine': 'Thai'}\n",
      "{'_id': ObjectId('60e7e7234ed795df0546b904'), 'meal_id': 2494, 'category': 'burger', 'cuisine': 'Thai'}\n",
      "{'_id': ObjectId('60e7e7234ed795df0546b905'), 'meal_id': 2760, 'category': 'burger', 'cuisine': 'Thai'}\n",
      "{'_id': ObjectId('60e7e7234ed795df0546b909'), 'meal_id': 1525, 'category': 'burger', 'cuisine': 'Thai'}\n",
      "{'_id': ObjectId('60e7e7234ed795df0546b90a'), 'meal_id': 2704, 'category': 'burger', 'cuisine': 'Thai'}\n",
      "{'_id': ObjectId('60e7e7234ed795df0546b90b'), 'meal_id': 1878, 'category': 'burger', 'cuisine': 'Thai'}\n",
      "{'_id': ObjectId('60e7e7234ed795df0546b90c'), 'meal_id': 2640, 'category': 'burger', 'cuisine': 'Thai'}\n",
      "{'_id': ObjectId('60e7e7234ed795df0546b90d'), 'meal_id': 2577, 'category': 'burger', 'cuisine': 'Thai'}\n",
      "{'_id': ObjectId('60e8199d7821eb62afbb3134'), 'meal_id': 1885, 'category': 'burger', 'cuisine': 'Thai'}\n",
      "{'_id': ObjectId('60e8199d7821eb62afbb3135'), 'meal_id': 1993, 'category': 'burger', 'cuisine': 'Thai'}\n",
      "{'_id': ObjectId('60e8199d7821eb62afbb3136'), 'meal_id': 2539, 'category': 'burger', 'cuisine': 'Thai'}\n",
      "{'_id': ObjectId('60e8199d7821eb62afbb3139'), 'meal_id': 1311, 'category': 'burger', 'cuisine': 'Thai'}\n",
      "{'_id': ObjectId('60e8199d7821eb62afbb313c'), 'meal_id': 1803, 'category': 'burger', 'cuisine': 'Thai'}\n",
      "{'_id': ObjectId('60e8199d7821eb62afbb313d'), 'meal_id': 1198, 'category': 'burger', 'cuisine': 'Thai'}\n",
      "{'_id': ObjectId('60e8199d7821eb62afbb313f'), 'meal_id': 1847, 'category': 'burger', 'cuisine': 'Thai'}\n",
      "{'_id': ObjectId('60e8199d7821eb62afbb3140'), 'meal_id': 1438, 'category': 'burger', 'cuisine': 'Thai'}\n",
      "{'_id': ObjectId('60e8199d7821eb62afbb3141'), 'meal_id': 2494, 'category': 'burger', 'cuisine': 'Thai'}\n",
      "{'_id': ObjectId('60e8199d7821eb62afbb3142'), 'meal_id': 2760, 'category': 'burger', 'cuisine': 'Thai'}\n",
      "{'_id': ObjectId('60e8199d7821eb62afbb3146'), 'meal_id': 1525, 'category': 'burger', 'cuisine': 'Thai'}\n",
      "{'_id': ObjectId('60e8199d7821eb62afbb3147'), 'meal_id': 2704, 'category': 'burger', 'cuisine': 'Thai'}\n",
      "{'_id': ObjectId('60e8199d7821eb62afbb3148'), 'meal_id': 1878, 'category': 'burger', 'cuisine': 'Thai'}\n",
      "{'_id': ObjectId('60e8199d7821eb62afbb3149'), 'meal_id': 2640, 'category': 'burger', 'cuisine': 'Thai'}\n",
      "{'_id': ObjectId('60e8199d7821eb62afbb314a'), 'meal_id': 2577, 'category': 'burger', 'cuisine': 'Thai'}\n"
     ]
    }
   ],
   "source": [
    "# Enter the cuisines to be updated\n",
    "# Enter the category to be chaged\n",
    "doc = {\"cuisine\": input(\"enter cuisine \")}\n",
    "update = {\"$set\": {\"category\": input(\"enter category to be changed \")}}\n",
    "\n",
    "db.info.update_many(doc, update)\n",
    "\n",
    "for i in db.info.find(doc):\n",
    "    print(i)"
   ]
  },
  {
   "cell_type": "markdown",
   "id": "3d52caa6",
   "metadata": {},
   "source": [
    "# Drop"
   ]
  },
  {
   "cell_type": "code",
   "execution_count": 9,
   "id": "eed89eaf",
   "metadata": {},
   "outputs": [
    {
     "name": "stdout",
     "output_type": "stream",
     "text": [
      "[]\n"
     ]
    }
   ],
   "source": [
    "# drop will delete all documents in collection\n",
    "db.info.drop()\n",
    "print([i for i in db.info.find({})])"
   ]
  },
  {
   "cell_type": "markdown",
   "id": "13499a04",
   "metadata": {},
   "source": [
    "# Delete One"
   ]
  },
  {
   "cell_type": "code",
   "execution_count": 11,
   "id": "17c884f4",
   "metadata": {
    "scrolled": true
   },
   "outputs": [
    {
     "name": "stdout",
     "output_type": "stream",
     "text": [
      "enter meal_id 1885\n",
      "{'_id': ObjectId('60e8199d7821eb62afbb3135'), 'meal_id': 1993, 'category': 'Beverages', 'cuisine': 'Thai'}\n",
      "{'_id': ObjectId('60e8199d7821eb62afbb3136'), 'meal_id': 2539, 'category': 'Beverages', 'cuisine': 'Thai'}\n",
      "{'_id': ObjectId('60e8199d7821eb62afbb3137'), 'meal_id': 1248, 'category': 'Beverages', 'cuisine': 'Indian'}\n",
      "{'_id': ObjectId('60e8199d7821eb62afbb3138'), 'meal_id': 2631, 'category': 'Beverages', 'cuisine': 'Indian'}\n",
      "{'_id': ObjectId('60e8199d7821eb62afbb3139'), 'meal_id': 1311, 'category': 'Extras', 'cuisine': 'Thai'}\n",
      "{'_id': ObjectId('60e8199d7821eb62afbb313a'), 'meal_id': 1062, 'category': 'Beverages', 'cuisine': 'Italian'}\n",
      "{'_id': ObjectId('60e8199d7821eb62afbb313b'), 'meal_id': 1778, 'category': 'Beverages', 'cuisine': 'Italian'}\n",
      "{'_id': ObjectId('60e8199d7821eb62afbb313c'), 'meal_id': 1803, 'category': 'Extras', 'cuisine': 'Thai'}\n",
      "{'_id': ObjectId('60e8199d7821eb62afbb313d'), 'meal_id': 1198, 'category': 'Extras', 'cuisine': 'Thai'}\n",
      "{'_id': ObjectId('60e8199d7821eb62afbb313e'), 'meal_id': 2707, 'category': 'Beverages', 'cuisine': 'Italian'}\n",
      "{'_id': ObjectId('60e8199d7821eb62afbb313f'), 'meal_id': 1847, 'category': 'Soup', 'cuisine': 'Thai'}\n",
      "{'_id': ObjectId('60e8199d7821eb62afbb3140'), 'meal_id': 1438, 'category': 'Soup', 'cuisine': 'Thai'}\n",
      "{'_id': ObjectId('60e8199d7821eb62afbb3141'), 'meal_id': 2494, 'category': 'Soup', 'cuisine': 'Thai'}\n",
      "{'_id': ObjectId('60e8199d7821eb62afbb3142'), 'meal_id': 2760, 'category': 'Other Snacks', 'cuisine': 'Thai'}\n",
      "{'_id': ObjectId('60e8199d7821eb62afbb3143'), 'meal_id': 2490, 'category': 'Salad', 'cuisine': 'Italian'}\n",
      "{'_id': ObjectId('60e8199d7821eb62afbb3144'), 'meal_id': 1109, 'category': 'Rice Bowl', 'cuisine': 'Indian'}\n",
      "{'_id': ObjectId('60e8199d7821eb62afbb3145'), 'meal_id': 2290, 'category': 'Rice Bowl', 'cuisine': 'Indian'}\n",
      "{'_id': ObjectId('60e8199d7821eb62afbb3146'), 'meal_id': 1525, 'category': 'Other Snacks', 'cuisine': 'Thai'}\n",
      "{'_id': ObjectId('60e8199d7821eb62afbb3147'), 'meal_id': 2704, 'category': 'Other Snacks', 'cuisine': 'Thai'}\n",
      "{'_id': ObjectId('60e8199d7821eb62afbb3148'), 'meal_id': 1878, 'category': 'Starters', 'cuisine': 'Thai'}\n",
      "{'_id': ObjectId('60e8199d7821eb62afbb3149'), 'meal_id': 2640, 'category': 'Starters', 'cuisine': 'Thai'}\n",
      "{'_id': ObjectId('60e8199d7821eb62afbb314a'), 'meal_id': 2577, 'category': 'Starters', 'cuisine': 'Thai'}\n",
      "{'_id': ObjectId('60e8199d7821eb62afbb314b'), 'meal_id': 1754, 'category': 'Sandwich', 'cuisine': 'Italian'}\n",
      "{'_id': ObjectId('60e8199d7821eb62afbb314c'), 'meal_id': 1971, 'category': 'Sandwich', 'cuisine': 'Italian'}\n",
      "{'_id': ObjectId('60e8199d7821eb62afbb314d'), 'meal_id': 2306, 'category': 'Pasta', 'cuisine': 'Italian'}\n",
      "{'_id': ObjectId('60e8199d7821eb62afbb314e'), 'meal_id': 2139, 'category': 'Beverages', 'cuisine': 'Indian'}\n",
      "{'_id': ObjectId('60e8199d7821eb62afbb314f'), 'meal_id': 2826, 'category': 'Sandwich', 'cuisine': 'Italian'}\n",
      "{'_id': ObjectId('60e8199d7821eb62afbb3150'), 'meal_id': 2664, 'category': 'Salad', 'cuisine': 'Italian'}\n",
      "{'_id': ObjectId('60e8199d7821eb62afbb3151'), 'meal_id': 2569, 'category': 'Salad', 'cuisine': 'Italian'}\n",
      "{'_id': ObjectId('60e8199d7821eb62afbb3152'), 'meal_id': 1230, 'category': 'Beverages', 'cuisine': 'Continental'}\n",
      "{'_id': ObjectId('60e8199d7821eb62afbb3153'), 'meal_id': 1207, 'category': 'Beverages', 'cuisine': 'Continental'}\n",
      "{'_id': ObjectId('60e8199d7821eb62afbb3154'), 'meal_id': 2322, 'category': 'Beverages', 'cuisine': 'Continental'}\n",
      "{'_id': ObjectId('60e8199d7821eb62afbb3155'), 'meal_id': 2492, 'category': 'Desert', 'cuisine': 'Indian'}\n",
      "{'_id': ObjectId('60e8199d7821eb62afbb3156'), 'meal_id': 1216, 'category': 'Pasta', 'cuisine': 'Italian'}\n",
      "{'_id': ObjectId('60e8199d7821eb62afbb3157'), 'meal_id': 1727, 'category': 'Rice Bowl', 'cuisine': 'Indian'}\n",
      "{'_id': ObjectId('60e8199d7821eb62afbb3158'), 'meal_id': 1902, 'category': 'Biryani', 'cuisine': 'Indian'}\n",
      "{'_id': ObjectId('60e8199d7821eb62afbb3159'), 'meal_id': 1247, 'category': 'Biryani', 'cuisine': 'Indian'}\n",
      "{'_id': ObjectId('60e8199d7821eb62afbb315a'), 'meal_id': 2304, 'category': 'Desert', 'cuisine': 'Indian'}\n",
      "{'_id': ObjectId('60e8199d7821eb62afbb315b'), 'meal_id': 1543, 'category': 'Desert', 'cuisine': 'Indian'}\n",
      "{'_id': ObjectId('60e8199d7821eb62afbb315c'), 'meal_id': 1770, 'category': 'Biryani', 'cuisine': 'Indian'}\n",
      "{'_id': ObjectId('60e8199d7821eb62afbb315d'), 'meal_id': 2126, 'category': 'Pasta', 'cuisine': 'Italian'}\n",
      "{'_id': ObjectId('60e8199d7821eb62afbb315e'), 'meal_id': 1558, 'category': 'Pizza', 'cuisine': 'Continental'}\n",
      "{'_id': ObjectId('60e8199d7821eb62afbb315f'), 'meal_id': 2581, 'category': 'Pizza', 'cuisine': 'Continental'}\n",
      "{'_id': ObjectId('60e8199d7821eb62afbb3160'), 'meal_id': 1962, 'category': 'Pizza', 'cuisine': 'Continental'}\n",
      "{'_id': ObjectId('60e8199d7821eb62afbb3161'), 'meal_id': 1571, 'category': 'Fish', 'cuisine': 'Continental'}\n",
      "{'_id': ObjectId('60e8199d7821eb62afbb3162'), 'meal_id': 2956, 'category': 'Fish', 'cuisine': 'Continental'}\n",
      "{'_id': ObjectId('60e8199d7821eb62afbb3163'), 'meal_id': 2104, 'category': 'Fish', 'cuisine': 'Continental'}\n",
      "{'_id': ObjectId('60e8199d7821eb62afbb3164'), 'meal_id': 2444, 'category': 'Seafood', 'cuisine': 'Continental'}\n",
      "{'_id': ObjectId('60e8199d7821eb62afbb3165'), 'meal_id': 2867, 'category': 'Seafood', 'cuisine': 'Continental'}\n",
      "{'_id': ObjectId('60e8199d7821eb62afbb3166'), 'meal_id': 1445, 'category': 'Seafood', 'cuisine': 'Continental'}\n"
     ]
    }
   ],
   "source": [
    "# Enter the meal_id to be deleted\n",
    "doc = {\"meal_id\": int(input(\"enter meal_id \"))}\n",
    "\n",
    "db.info.delete_one(doc)\n",
    "\n",
    "for i in db.info.find({}):\n",
    "    print(i)"
   ]
  },
  {
   "cell_type": "markdown",
   "id": "ef554d96",
   "metadata": {},
   "source": [
    "# Delete Many"
   ]
  },
  {
   "cell_type": "code",
   "execution_count": 12,
   "id": "c2d1921e",
   "metadata": {
    "scrolled": true
   },
   "outputs": [
    {
     "name": "stdout",
     "output_type": "stream",
     "text": [
      "enter category Beverages\n",
      "{'_id': ObjectId('60e8199d7821eb62afbb3139'), 'meal_id': 1311, 'category': 'Extras', 'cuisine': 'Thai'}\n",
      "{'_id': ObjectId('60e8199d7821eb62afbb313c'), 'meal_id': 1803, 'category': 'Extras', 'cuisine': 'Thai'}\n",
      "{'_id': ObjectId('60e8199d7821eb62afbb313d'), 'meal_id': 1198, 'category': 'Extras', 'cuisine': 'Thai'}\n",
      "{'_id': ObjectId('60e8199d7821eb62afbb313f'), 'meal_id': 1847, 'category': 'Soup', 'cuisine': 'Thai'}\n",
      "{'_id': ObjectId('60e8199d7821eb62afbb3140'), 'meal_id': 1438, 'category': 'Soup', 'cuisine': 'Thai'}\n",
      "{'_id': ObjectId('60e8199d7821eb62afbb3141'), 'meal_id': 2494, 'category': 'Soup', 'cuisine': 'Thai'}\n",
      "{'_id': ObjectId('60e8199d7821eb62afbb3142'), 'meal_id': 2760, 'category': 'Other Snacks', 'cuisine': 'Thai'}\n",
      "{'_id': ObjectId('60e8199d7821eb62afbb3143'), 'meal_id': 2490, 'category': 'Salad', 'cuisine': 'Italian'}\n",
      "{'_id': ObjectId('60e8199d7821eb62afbb3144'), 'meal_id': 1109, 'category': 'Rice Bowl', 'cuisine': 'Indian'}\n",
      "{'_id': ObjectId('60e8199d7821eb62afbb3145'), 'meal_id': 2290, 'category': 'Rice Bowl', 'cuisine': 'Indian'}\n",
      "{'_id': ObjectId('60e8199d7821eb62afbb3146'), 'meal_id': 1525, 'category': 'Other Snacks', 'cuisine': 'Thai'}\n",
      "{'_id': ObjectId('60e8199d7821eb62afbb3147'), 'meal_id': 2704, 'category': 'Other Snacks', 'cuisine': 'Thai'}\n",
      "{'_id': ObjectId('60e8199d7821eb62afbb3148'), 'meal_id': 1878, 'category': 'Starters', 'cuisine': 'Thai'}\n",
      "{'_id': ObjectId('60e8199d7821eb62afbb3149'), 'meal_id': 2640, 'category': 'Starters', 'cuisine': 'Thai'}\n",
      "{'_id': ObjectId('60e8199d7821eb62afbb314a'), 'meal_id': 2577, 'category': 'Starters', 'cuisine': 'Thai'}\n",
      "{'_id': ObjectId('60e8199d7821eb62afbb314b'), 'meal_id': 1754, 'category': 'Sandwich', 'cuisine': 'Italian'}\n",
      "{'_id': ObjectId('60e8199d7821eb62afbb314c'), 'meal_id': 1971, 'category': 'Sandwich', 'cuisine': 'Italian'}\n",
      "{'_id': ObjectId('60e8199d7821eb62afbb314d'), 'meal_id': 2306, 'category': 'Pasta', 'cuisine': 'Italian'}\n",
      "{'_id': ObjectId('60e8199d7821eb62afbb314f'), 'meal_id': 2826, 'category': 'Sandwich', 'cuisine': 'Italian'}\n",
      "{'_id': ObjectId('60e8199d7821eb62afbb3150'), 'meal_id': 2664, 'category': 'Salad', 'cuisine': 'Italian'}\n",
      "{'_id': ObjectId('60e8199d7821eb62afbb3151'), 'meal_id': 2569, 'category': 'Salad', 'cuisine': 'Italian'}\n",
      "{'_id': ObjectId('60e8199d7821eb62afbb3155'), 'meal_id': 2492, 'category': 'Desert', 'cuisine': 'Indian'}\n",
      "{'_id': ObjectId('60e8199d7821eb62afbb3156'), 'meal_id': 1216, 'category': 'Pasta', 'cuisine': 'Italian'}\n",
      "{'_id': ObjectId('60e8199d7821eb62afbb3157'), 'meal_id': 1727, 'category': 'Rice Bowl', 'cuisine': 'Indian'}\n",
      "{'_id': ObjectId('60e8199d7821eb62afbb3158'), 'meal_id': 1902, 'category': 'Biryani', 'cuisine': 'Indian'}\n",
      "{'_id': ObjectId('60e8199d7821eb62afbb3159'), 'meal_id': 1247, 'category': 'Biryani', 'cuisine': 'Indian'}\n",
      "{'_id': ObjectId('60e8199d7821eb62afbb315a'), 'meal_id': 2304, 'category': 'Desert', 'cuisine': 'Indian'}\n",
      "{'_id': ObjectId('60e8199d7821eb62afbb315b'), 'meal_id': 1543, 'category': 'Desert', 'cuisine': 'Indian'}\n",
      "{'_id': ObjectId('60e8199d7821eb62afbb315c'), 'meal_id': 1770, 'category': 'Biryani', 'cuisine': 'Indian'}\n",
      "{'_id': ObjectId('60e8199d7821eb62afbb315d'), 'meal_id': 2126, 'category': 'Pasta', 'cuisine': 'Italian'}\n",
      "{'_id': ObjectId('60e8199d7821eb62afbb315e'), 'meal_id': 1558, 'category': 'Pizza', 'cuisine': 'Continental'}\n",
      "{'_id': ObjectId('60e8199d7821eb62afbb315f'), 'meal_id': 2581, 'category': 'Pizza', 'cuisine': 'Continental'}\n",
      "{'_id': ObjectId('60e8199d7821eb62afbb3160'), 'meal_id': 1962, 'category': 'Pizza', 'cuisine': 'Continental'}\n",
      "{'_id': ObjectId('60e8199d7821eb62afbb3161'), 'meal_id': 1571, 'category': 'Fish', 'cuisine': 'Continental'}\n",
      "{'_id': ObjectId('60e8199d7821eb62afbb3162'), 'meal_id': 2956, 'category': 'Fish', 'cuisine': 'Continental'}\n",
      "{'_id': ObjectId('60e8199d7821eb62afbb3163'), 'meal_id': 2104, 'category': 'Fish', 'cuisine': 'Continental'}\n",
      "{'_id': ObjectId('60e8199d7821eb62afbb3164'), 'meal_id': 2444, 'category': 'Seafood', 'cuisine': 'Continental'}\n",
      "{'_id': ObjectId('60e8199d7821eb62afbb3165'), 'meal_id': 2867, 'category': 'Seafood', 'cuisine': 'Continental'}\n",
      "{'_id': ObjectId('60e8199d7821eb62afbb3166'), 'meal_id': 1445, 'category': 'Seafood', 'cuisine': 'Continental'}\n"
     ]
    }
   ],
   "source": [
    "# Enter the category to be deleted\n",
    "doc = {\"category\": input(\"enter category \")}\n",
    "\n",
    "db.info.delete_many(doc)\n",
    "\n",
    "for i in db.info.find({}):\n",
    "    print(i)"
   ]
  },
  {
   "cell_type": "markdown",
   "id": "3e0b5bf0",
   "metadata": {},
   "source": [
    "# Insert One"
   ]
  },
  {
   "cell_type": "code",
   "execution_count": 13,
   "id": "55295391",
   "metadata": {},
   "outputs": [
    {
     "name": "stdout",
     "output_type": "stream",
     "text": [
      "enter meal id 1\n",
      "enter categoryapple\n",
      "enter cuisineIndian\n",
      "{'_id': ObjectId('60e81c277821eb62afbb3168'), 'meal_id': 1, 'category': 'apple', 'cuisine': 'Indian'}\n"
     ]
    }
   ],
   "source": [
    "# Enter the document to be insertd in the collection\n",
    "meal_id = int(input(\"enter meal id \"))\n",
    "doc = {\n",
    "    \"meal_id\": meal_id,\n",
    "    \"category\": input(\"enter category\"),\n",
    "    \"cuisine\": input(\"enter cuisine\")\n",
    "}\n",
    "\n",
    "db.info.insert_one(doc)\n",
    "print(db.info.find_one({\"meal_id\": meal_id}))"
   ]
  },
  {
   "cell_type": "markdown",
   "id": "bad0d11b",
   "metadata": {},
   "source": [
    "# Insert Many"
   ]
  },
  {
   "cell_type": "code",
   "execution_count": 14,
   "id": "7fb798ce",
   "metadata": {
    "scrolled": true
   },
   "outputs": [
    {
     "name": "stdout",
     "output_type": "stream",
     "text": [
      "number of meals 2\n",
      "enter meal id 22\n",
      "enter category pie\n",
      "enter cuisine Italy\n",
      "enter meal id 33\n",
      "enter category pizza\n",
      "enter cuisine Indian\n",
      "{'_id': ObjectId('60e8199d7821eb62afbb3139'), 'meal_id': 1311, 'category': 'Extras', 'cuisine': 'Thai'}\n",
      "{'_id': ObjectId('60e8199d7821eb62afbb313c'), 'meal_id': 1803, 'category': 'Extras', 'cuisine': 'Thai'}\n",
      "{'_id': ObjectId('60e8199d7821eb62afbb313d'), 'meal_id': 1198, 'category': 'Extras', 'cuisine': 'Thai'}\n",
      "{'_id': ObjectId('60e8199d7821eb62afbb313f'), 'meal_id': 1847, 'category': 'Soup', 'cuisine': 'Thai'}\n",
      "{'_id': ObjectId('60e8199d7821eb62afbb3140'), 'meal_id': 1438, 'category': 'Soup', 'cuisine': 'Thai'}\n",
      "{'_id': ObjectId('60e8199d7821eb62afbb3141'), 'meal_id': 2494, 'category': 'Soup', 'cuisine': 'Thai'}\n",
      "{'_id': ObjectId('60e8199d7821eb62afbb3142'), 'meal_id': 2760, 'category': 'Other Snacks', 'cuisine': 'Thai'}\n",
      "{'_id': ObjectId('60e8199d7821eb62afbb3143'), 'meal_id': 2490, 'category': 'Salad', 'cuisine': 'Italian'}\n",
      "{'_id': ObjectId('60e8199d7821eb62afbb3144'), 'meal_id': 1109, 'category': 'Rice Bowl', 'cuisine': 'Indian'}\n",
      "{'_id': ObjectId('60e8199d7821eb62afbb3145'), 'meal_id': 2290, 'category': 'Rice Bowl', 'cuisine': 'Indian'}\n",
      "{'_id': ObjectId('60e8199d7821eb62afbb3146'), 'meal_id': 1525, 'category': 'Other Snacks', 'cuisine': 'Thai'}\n",
      "{'_id': ObjectId('60e8199d7821eb62afbb3147'), 'meal_id': 2704, 'category': 'Other Snacks', 'cuisine': 'Thai'}\n",
      "{'_id': ObjectId('60e8199d7821eb62afbb3148'), 'meal_id': 1878, 'category': 'Starters', 'cuisine': 'Thai'}\n",
      "{'_id': ObjectId('60e8199d7821eb62afbb3149'), 'meal_id': 2640, 'category': 'Starters', 'cuisine': 'Thai'}\n",
      "{'_id': ObjectId('60e8199d7821eb62afbb314a'), 'meal_id': 2577, 'category': 'Starters', 'cuisine': 'Thai'}\n",
      "{'_id': ObjectId('60e8199d7821eb62afbb314b'), 'meal_id': 1754, 'category': 'Sandwich', 'cuisine': 'Italian'}\n",
      "{'_id': ObjectId('60e8199d7821eb62afbb314c'), 'meal_id': 1971, 'category': 'Sandwich', 'cuisine': 'Italian'}\n",
      "{'_id': ObjectId('60e8199d7821eb62afbb314d'), 'meal_id': 2306, 'category': 'Pasta', 'cuisine': 'Italian'}\n",
      "{'_id': ObjectId('60e8199d7821eb62afbb314f'), 'meal_id': 2826, 'category': 'Sandwich', 'cuisine': 'Italian'}\n",
      "{'_id': ObjectId('60e8199d7821eb62afbb3150'), 'meal_id': 2664, 'category': 'Salad', 'cuisine': 'Italian'}\n",
      "{'_id': ObjectId('60e8199d7821eb62afbb3151'), 'meal_id': 2569, 'category': 'Salad', 'cuisine': 'Italian'}\n",
      "{'_id': ObjectId('60e8199d7821eb62afbb3155'), 'meal_id': 2492, 'category': 'Desert', 'cuisine': 'Indian'}\n",
      "{'_id': ObjectId('60e8199d7821eb62afbb3156'), 'meal_id': 1216, 'category': 'Pasta', 'cuisine': 'Italian'}\n",
      "{'_id': ObjectId('60e8199d7821eb62afbb3157'), 'meal_id': 1727, 'category': 'Rice Bowl', 'cuisine': 'Indian'}\n",
      "{'_id': ObjectId('60e8199d7821eb62afbb3158'), 'meal_id': 1902, 'category': 'Biryani', 'cuisine': 'Indian'}\n",
      "{'_id': ObjectId('60e8199d7821eb62afbb3159'), 'meal_id': 1247, 'category': 'Biryani', 'cuisine': 'Indian'}\n",
      "{'_id': ObjectId('60e8199d7821eb62afbb315a'), 'meal_id': 2304, 'category': 'Desert', 'cuisine': 'Indian'}\n",
      "{'_id': ObjectId('60e8199d7821eb62afbb315b'), 'meal_id': 1543, 'category': 'Desert', 'cuisine': 'Indian'}\n",
      "{'_id': ObjectId('60e8199d7821eb62afbb315c'), 'meal_id': 1770, 'category': 'Biryani', 'cuisine': 'Indian'}\n",
      "{'_id': ObjectId('60e8199d7821eb62afbb315d'), 'meal_id': 2126, 'category': 'Pasta', 'cuisine': 'Italian'}\n",
      "{'_id': ObjectId('60e8199d7821eb62afbb315e'), 'meal_id': 1558, 'category': 'Pizza', 'cuisine': 'Continental'}\n",
      "{'_id': ObjectId('60e8199d7821eb62afbb315f'), 'meal_id': 2581, 'category': 'Pizza', 'cuisine': 'Continental'}\n",
      "{'_id': ObjectId('60e8199d7821eb62afbb3160'), 'meal_id': 1962, 'category': 'Pizza', 'cuisine': 'Continental'}\n",
      "{'_id': ObjectId('60e8199d7821eb62afbb3161'), 'meal_id': 1571, 'category': 'Fish', 'cuisine': 'Continental'}\n",
      "{'_id': ObjectId('60e8199d7821eb62afbb3162'), 'meal_id': 2956, 'category': 'Fish', 'cuisine': 'Continental'}\n",
      "{'_id': ObjectId('60e8199d7821eb62afbb3163'), 'meal_id': 2104, 'category': 'Fish', 'cuisine': 'Continental'}\n",
      "{'_id': ObjectId('60e8199d7821eb62afbb3164'), 'meal_id': 2444, 'category': 'Seafood', 'cuisine': 'Continental'}\n",
      "{'_id': ObjectId('60e8199d7821eb62afbb3165'), 'meal_id': 2867, 'category': 'Seafood', 'cuisine': 'Continental'}\n",
      "{'_id': ObjectId('60e8199d7821eb62afbb3166'), 'meal_id': 1445, 'category': 'Seafood', 'cuisine': 'Continental'}\n",
      "{'_id': ObjectId('60e81c277821eb62afbb3168'), 'meal_id': 1, 'category': 'apple', 'cuisine': 'Indian'}\n",
      "{'_id': ObjectId('60e81c757821eb62afbb3169'), 'meal_id': 22, 'category': 'pie', 'cuisine': 'Italy'}\n",
      "{'_id': ObjectId('60e81c757821eb62afbb316a'), 'meal_id': 33, 'category': 'pizza', 'cuisine': 'Indian'}\n"
     ]
    }
   ],
   "source": [
    "# Enter the number of documents to be inserted\n",
    "# Enter the documents to be inserted in collection\n",
    "docs = []\n",
    "for i in range(int(input(\"number of meals \"))):\n",
    "    doc = {\n",
    "        \"meal_id\": int(input(\"enter meal id \")),\n",
    "        \"category\": input(\"enter category \"),\n",
    "        \"cuisine\": input(\"enter cuisine \")\n",
    "    }\n",
    "    docs.append(doc)\n",
    "\n",
    "ids = db.info.insert_many(docs)\n",
    "for i in db.info.find({}):\n",
    "    print(i)"
   ]
  },
  {
   "cell_type": "markdown",
   "id": "97754b36",
   "metadata": {},
   "source": [
    "# Inserted Id"
   ]
  },
  {
   "cell_type": "code",
   "execution_count": 15,
   "id": "ddebc354",
   "metadata": {},
   "outputs": [
    {
     "name": "stdout",
     "output_type": "stream",
     "text": [
      "[ObjectId('60e81c757821eb62afbb3169'), ObjectId('60e81c757821eb62afbb316a')]\n"
     ]
    }
   ],
   "source": [
    "# Returns the last inserted Object_id's of document\n",
    "print(ids.inserted_ids)"
   ]
  },
  {
   "cell_type": "markdown",
   "id": "8a811092",
   "metadata": {},
   "source": [
    "# All Document Id's"
   ]
  },
  {
   "cell_type": "code",
   "execution_count": 16,
   "id": "c674a89a",
   "metadata": {
    "scrolled": true
   },
   "outputs": [
    {
     "name": "stdout",
     "output_type": "stream",
     "text": [
      "60e8199d7821eb62afbb3139\n",
      "60e8199d7821eb62afbb313c\n",
      "60e8199d7821eb62afbb313d\n",
      "60e8199d7821eb62afbb313f\n",
      "60e8199d7821eb62afbb3140\n",
      "60e8199d7821eb62afbb3141\n",
      "60e8199d7821eb62afbb3142\n",
      "60e8199d7821eb62afbb3143\n",
      "60e8199d7821eb62afbb3144\n",
      "60e8199d7821eb62afbb3145\n",
      "60e8199d7821eb62afbb3146\n",
      "60e8199d7821eb62afbb3147\n",
      "60e8199d7821eb62afbb3148\n",
      "60e8199d7821eb62afbb3149\n",
      "60e8199d7821eb62afbb314a\n",
      "60e8199d7821eb62afbb314b\n",
      "60e8199d7821eb62afbb314c\n",
      "60e8199d7821eb62afbb314d\n",
      "60e8199d7821eb62afbb314f\n",
      "60e8199d7821eb62afbb3150\n",
      "60e8199d7821eb62afbb3151\n",
      "60e8199d7821eb62afbb3155\n",
      "60e8199d7821eb62afbb3156\n",
      "60e8199d7821eb62afbb3157\n",
      "60e8199d7821eb62afbb3158\n",
      "60e8199d7821eb62afbb3159\n",
      "60e8199d7821eb62afbb315a\n",
      "60e8199d7821eb62afbb315b\n",
      "60e8199d7821eb62afbb315c\n",
      "60e8199d7821eb62afbb315d\n",
      "60e8199d7821eb62afbb315e\n",
      "60e8199d7821eb62afbb315f\n",
      "60e8199d7821eb62afbb3160\n",
      "60e8199d7821eb62afbb3161\n",
      "60e8199d7821eb62afbb3162\n",
      "60e8199d7821eb62afbb3163\n",
      "60e8199d7821eb62afbb3164\n",
      "60e8199d7821eb62afbb3165\n",
      "60e8199d7821eb62afbb3166\n",
      "60e81c277821eb62afbb3168\n",
      "60e81c757821eb62afbb3169\n",
      "60e81c757821eb62afbb316a\n"
     ]
    }
   ],
   "source": [
    "# Returns all Object_id's in the collection\n",
    "for i in db.info.find({}, {\"_id\": 1}):\n",
    "    print(i[\"_id\"])"
   ]
  },
  {
   "cell_type": "markdown",
   "id": "8765dec3",
   "metadata": {},
   "source": [
    "# Sort"
   ]
  },
  {
   "cell_type": "code",
   "execution_count": 17,
   "id": "2bcae08c",
   "metadata": {
    "scrolled": true
   },
   "outputs": [
    {
     "name": "stdout",
     "output_type": "stream",
     "text": [
      "{'_id': ObjectId('60e81c277821eb62afbb3168'), 'meal_id': 1, 'category': 'apple', 'cuisine': 'Indian'}\n",
      "{'_id': ObjectId('60e81c757821eb62afbb3169'), 'meal_id': 22, 'category': 'pie', 'cuisine': 'Italy'}\n",
      "{'_id': ObjectId('60e81c757821eb62afbb316a'), 'meal_id': 33, 'category': 'pizza', 'cuisine': 'Indian'}\n",
      "{'_id': ObjectId('60e8199d7821eb62afbb3144'), 'meal_id': 1109, 'category': 'Rice Bowl', 'cuisine': 'Indian'}\n",
      "{'_id': ObjectId('60e8199d7821eb62afbb313d'), 'meal_id': 1198, 'category': 'Extras', 'cuisine': 'Thai'}\n",
      "{'_id': ObjectId('60e8199d7821eb62afbb3156'), 'meal_id': 1216, 'category': 'Pasta', 'cuisine': 'Italian'}\n",
      "{'_id': ObjectId('60e8199d7821eb62afbb3159'), 'meal_id': 1247, 'category': 'Biryani', 'cuisine': 'Indian'}\n",
      "{'_id': ObjectId('60e8199d7821eb62afbb3139'), 'meal_id': 1311, 'category': 'Extras', 'cuisine': 'Thai'}\n",
      "{'_id': ObjectId('60e8199d7821eb62afbb3140'), 'meal_id': 1438, 'category': 'Soup', 'cuisine': 'Thai'}\n",
      "{'_id': ObjectId('60e8199d7821eb62afbb3166'), 'meal_id': 1445, 'category': 'Seafood', 'cuisine': 'Continental'}\n",
      "{'_id': ObjectId('60e8199d7821eb62afbb3146'), 'meal_id': 1525, 'category': 'Other Snacks', 'cuisine': 'Thai'}\n",
      "{'_id': ObjectId('60e8199d7821eb62afbb315b'), 'meal_id': 1543, 'category': 'Desert', 'cuisine': 'Indian'}\n",
      "{'_id': ObjectId('60e8199d7821eb62afbb315e'), 'meal_id': 1558, 'category': 'Pizza', 'cuisine': 'Continental'}\n",
      "{'_id': ObjectId('60e8199d7821eb62afbb3161'), 'meal_id': 1571, 'category': 'Fish', 'cuisine': 'Continental'}\n",
      "{'_id': ObjectId('60e8199d7821eb62afbb3157'), 'meal_id': 1727, 'category': 'Rice Bowl', 'cuisine': 'Indian'}\n",
      "{'_id': ObjectId('60e8199d7821eb62afbb314b'), 'meal_id': 1754, 'category': 'Sandwich', 'cuisine': 'Italian'}\n",
      "{'_id': ObjectId('60e8199d7821eb62afbb315c'), 'meal_id': 1770, 'category': 'Biryani', 'cuisine': 'Indian'}\n",
      "{'_id': ObjectId('60e8199d7821eb62afbb313c'), 'meal_id': 1803, 'category': 'Extras', 'cuisine': 'Thai'}\n",
      "{'_id': ObjectId('60e8199d7821eb62afbb313f'), 'meal_id': 1847, 'category': 'Soup', 'cuisine': 'Thai'}\n",
      "{'_id': ObjectId('60e8199d7821eb62afbb3148'), 'meal_id': 1878, 'category': 'Starters', 'cuisine': 'Thai'}\n",
      "{'_id': ObjectId('60e8199d7821eb62afbb3158'), 'meal_id': 1902, 'category': 'Biryani', 'cuisine': 'Indian'}\n",
      "{'_id': ObjectId('60e8199d7821eb62afbb3160'), 'meal_id': 1962, 'category': 'Pizza', 'cuisine': 'Continental'}\n",
      "{'_id': ObjectId('60e8199d7821eb62afbb314c'), 'meal_id': 1971, 'category': 'Sandwich', 'cuisine': 'Italian'}\n",
      "{'_id': ObjectId('60e8199d7821eb62afbb3163'), 'meal_id': 2104, 'category': 'Fish', 'cuisine': 'Continental'}\n",
      "{'_id': ObjectId('60e8199d7821eb62afbb315d'), 'meal_id': 2126, 'category': 'Pasta', 'cuisine': 'Italian'}\n",
      "{'_id': ObjectId('60e8199d7821eb62afbb3145'), 'meal_id': 2290, 'category': 'Rice Bowl', 'cuisine': 'Indian'}\n",
      "{'_id': ObjectId('60e8199d7821eb62afbb315a'), 'meal_id': 2304, 'category': 'Desert', 'cuisine': 'Indian'}\n",
      "{'_id': ObjectId('60e8199d7821eb62afbb314d'), 'meal_id': 2306, 'category': 'Pasta', 'cuisine': 'Italian'}\n",
      "{'_id': ObjectId('60e8199d7821eb62afbb3164'), 'meal_id': 2444, 'category': 'Seafood', 'cuisine': 'Continental'}\n",
      "{'_id': ObjectId('60e8199d7821eb62afbb3143'), 'meal_id': 2490, 'category': 'Salad', 'cuisine': 'Italian'}\n",
      "{'_id': ObjectId('60e8199d7821eb62afbb3155'), 'meal_id': 2492, 'category': 'Desert', 'cuisine': 'Indian'}\n",
      "{'_id': ObjectId('60e8199d7821eb62afbb3141'), 'meal_id': 2494, 'category': 'Soup', 'cuisine': 'Thai'}\n",
      "{'_id': ObjectId('60e8199d7821eb62afbb3151'), 'meal_id': 2569, 'category': 'Salad', 'cuisine': 'Italian'}\n",
      "{'_id': ObjectId('60e8199d7821eb62afbb314a'), 'meal_id': 2577, 'category': 'Starters', 'cuisine': 'Thai'}\n",
      "{'_id': ObjectId('60e8199d7821eb62afbb315f'), 'meal_id': 2581, 'category': 'Pizza', 'cuisine': 'Continental'}\n",
      "{'_id': ObjectId('60e8199d7821eb62afbb3149'), 'meal_id': 2640, 'category': 'Starters', 'cuisine': 'Thai'}\n",
      "{'_id': ObjectId('60e8199d7821eb62afbb3150'), 'meal_id': 2664, 'category': 'Salad', 'cuisine': 'Italian'}\n",
      "{'_id': ObjectId('60e8199d7821eb62afbb3147'), 'meal_id': 2704, 'category': 'Other Snacks', 'cuisine': 'Thai'}\n",
      "{'_id': ObjectId('60e8199d7821eb62afbb3142'), 'meal_id': 2760, 'category': 'Other Snacks', 'cuisine': 'Thai'}\n",
      "{'_id': ObjectId('60e8199d7821eb62afbb314f'), 'meal_id': 2826, 'category': 'Sandwich', 'cuisine': 'Italian'}\n",
      "{'_id': ObjectId('60e8199d7821eb62afbb3165'), 'meal_id': 2867, 'category': 'Seafood', 'cuisine': 'Continental'}\n",
      "{'_id': ObjectId('60e8199d7821eb62afbb3162'), 'meal_id': 2956, 'category': 'Fish', 'cuisine': 'Continental'}\n"
     ]
    }
   ],
   "source": [
    "# Sort the collection by meal_id\n",
    "for i in db.info.find().sort(\"meal_id\", 1):\n",
    "    print(i)"
   ]
  }
 ],
 "metadata": {
  "kernelspec": {
   "display_name": "Python 3",
   "language": "python",
   "name": "python3"
  },
  "language_info": {
   "codemirror_mode": {
    "name": "ipython",
    "version": 3
   },
   "file_extension": ".py",
   "mimetype": "text/x-python",
   "name": "python",
   "nbconvert_exporter": "python",
   "pygments_lexer": "ipython3",
   "version": "3.8.8"
  }
 },
 "nbformat": 4,
 "nbformat_minor": 5
}
